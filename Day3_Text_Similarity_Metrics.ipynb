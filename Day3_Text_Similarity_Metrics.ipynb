{
  "nbformat": 4,
  "nbformat_minor": 0,
  "metadata": {
    "colab": {
      "provenance": []
    },
    "kernelspec": {
      "name": "python3",
      "display_name": "Python 3"
    },
    "language_info": {
      "name": "python"
    }
  },
  "cells": [
    {
      "cell_type": "markdown",
      "source": [
        "Yesterday, we concluded that the dense representation through word embeddings is the best way to convert language to a machine readable format. because the dense vectors allow us to convert text into high dimensional vectors organized so that each vector's geometric positio can attribute meaning. In a nutshell, the position or geometric location on a vector (word) within a plane can determine their meanings in a given text. \n",
        "\n",
        "QUEEN = KING - MAN + WOMAN"
      ],
      "metadata": {
        "id": "Yb7iKMkejUHU"
      }
    },
    {
      "cell_type": "markdown",
      "source": [
        "Simple Code to Build Vectors from Text"
      ],
      "metadata": {
        "id": "YW-Po91LlN31"
      }
    },
    {
      "cell_type": "code",
      "execution_count": 1,
      "metadata": {
        "id": "4Eu7a3ErjOaX"
      },
      "outputs": [],
      "source": [
        "doc1 = \"academic ... session ... academic ... session ... academic \"\n",
        "doc1 += \" ... session ... academic ... session\"\n",
        "doc1 += \" ... academic ... session ... academic ... academic \"\n"
      ]
    },
    {
      "cell_type": "markdown",
      "source": [
        "Define a function that will generate vectors from documents"
      ],
      "metadata": {
        "id": "r0hkonGcnyzC"
      }
    },
    {
      "cell_type": "code",
      "source": [
        "doc2 = \"session ... academic ... session ... academic \"\n",
        "doc2 += \" ... session ... session\"\n"
      ],
      "metadata": {
        "id": "XrNLUx30n3Y2"
      },
      "execution_count": 2,
      "outputs": []
    },
    {
      "cell_type": "code",
      "source": [
        "def vectors(doc):\n",
        "\n",
        "# the above represent a document that has keywords only\n",
        "\n",
        "  vector = [0, 0]\n",
        "\n",
        "#initialize the array \n",
        "  for word in doc.split(\" \"):\n",
        "    if word == \"academic\":\n",
        "      vector[0] = vector[0] + 1\n",
        "    if word == \"session\":\n",
        "      vector[1] = vector[1] + 1\n",
        "\n",
        "  print(vector)"
      ],
      "metadata": {
        "id": "_zZLDT4Em5ZR"
      },
      "execution_count": 3,
      "outputs": []
    },
    {
      "cell_type": "code",
      "source": [
        "d1 = vectors(doc1)"
      ],
      "metadata": {
        "colab": {
          "base_uri": "https://localhost:8080/"
        },
        "id": "iWMa0jb_nMr1",
        "outputId": "4df16aa9-6b45-4b70-b728-b0dc799ef86b"
      },
      "execution_count": 4,
      "outputs": [
        {
          "output_type": "stream",
          "name": "stdout",
          "text": [
            "[7, 5]\n"
          ]
        }
      ]
    },
    {
      "cell_type": "code",
      "source": [
        "d2 = vectors(doc2)"
      ],
      "metadata": {
        "colab": {
          "base_uri": "https://localhost:8080/"
        },
        "id": "YLFB7H5koJiS",
        "outputId": "6bac5be9-1a4a-481e-efea-5c712d4b0d48"
      },
      "execution_count": 5,
      "outputs": [
        {
          "output_type": "stream",
          "name": "stdout",
          "text": [
            "[2, 4]\n"
          ]
        }
      ]
    },
    {
      "cell_type": "code",
      "source": [
        "import matplotlib.pyplot as plt\n",
        "plt.plot([7,5],'g*', [2,4], 'ro')\n",
        "plt.show()\n",
        "\n",
        "#decided to play around with matplotlib to show the distance from query to doc1 and doc2\n",
        "#use your eyes and brain to draw a imaginary dotted lines to connect the doc together\n",
        "# the red dots rep doc2 while the green dots rep "
      ],
      "metadata": {
        "colab": {
          "base_uri": "https://localhost:8080/",
          "height": 265
        },
        "id": "0JvN8tLnoJyW",
        "outputId": "2dd1a5ea-3e29-4af0-d4f5-917ea753e86c"
      },
      "execution_count": 6,
      "outputs": [
        {
          "output_type": "display_data",
          "data": {
            "text/plain": [
              "<Figure size 432x288 with 1 Axes>"
            ],
            "image/png": "[encoded data removed]"
          },
          "metadata": {
            "needs_background": "light"
          }
        }
      ]
    },
    {
      "cell_type": "markdown",
      "source": [
        "EUCLIDEAN DISTANCE\n",
        "\n",
        "Programmed after Pythagoras theory (my favourite theory in maths), ED is the distance between two points, basically it is measured as the length of the line between two points. In NLP, measures the similarity btw two texts, how two v"
      ],
      "metadata": {
        "id": "bcy0ASWg1vpt"
      }
    },
    {
      "cell_type": "code",
      "source": [
        "import math\n",
        "\n",
        "query = [1, 1]\n",
        "doc1 = [7, 5]\n",
        "sq_length = 0\n",
        "\n",
        "for index in range(0, len(query)):\n",
        "    sq_length += math.pow((doc1[index] - query[index]), 2)\n",
        "            \n",
        "print (math.sqrt(sq_length))"
      ],
      "metadata": {
        "id": "-kiIg3KqoJ0f",
        "colab": {
          "base_uri": "https://localhost:8080/"
        },
        "outputId": "d1fc6323-d3e2-407a-d755-7042d385fe43"
      },
      "execution_count": 7,
      "outputs": [
        {
          "output_type": "stream",
          "name": "stdout",
          "text": [
            "7.211102550927978\n"
          ]
        }
      ]
    },
    {
      "cell_type": "code",
      "source": [
        "import math\n",
        "\n",
        "query = [1, 1]\n",
        "doc1 = [2, 4]\n",
        "sq_length = 0\n",
        "\n",
        "for index in range(0, len(query)):\n",
        "    sq_length += math.pow((doc1[index] - query[index]), 2)\n",
        "            \n",
        "print (math.sqrt(sq_length))"
      ],
      "metadata": {
        "colab": {
          "base_uri": "https://localhost:8080/"
        },
        "id": "_t2C1_ldGczK",
        "outputId": "da842b36-58d6-4138-c036-9caa1be656e1"
      },
      "execution_count": 8,
      "outputs": [
        {
          "output_type": "stream",
          "name": "stdout",
          "text": [
            "3.1622776601683795\n"
          ]
        }
      ]
    },
    {
      "cell_type": "markdown",
      "source": [
        "COSINE SIMILARITY"
      ],
      "metadata": {
        "id": "qlHxS7nCG1nH"
      }
    },
    {
      "cell_type": "code",
      "source": [
        "\n",
        "import math\n",
        "\n",
        "query = [1, 1]\n",
        "doc1 = [7, 5]\n",
        "\n",
        "def length(vector):\n",
        "    sq_length = 0\n",
        "    for index in range(0, len(vector)):\n",
        "        sq_length += math.pow(vector[index], 2)\n",
        "    return math.sqrt(sq_length)\n",
        "    \n",
        "def dot_product(vector1, vector2):\n",
        "    if len(vector1)==len(vector2):\n",
        "        dot_prod = 0\n",
        "        for index in range(0, len(vector1)):\n",
        "            dot_prod += vector1[index]*vector2[index]\n",
        "        return dot_prod\n",
        "    else:\n",
        "        return \"Unmatching dimensionality\"\n",
        "\n",
        "cosine=dot_product(query, doc1)/(length(query)*length(doc1))\n",
        "print (cosine)"
      ],
      "metadata": {
        "colab": {
          "base_uri": "https://localhost:8080/"
        },
        "id": "TfI0z30bG1G_",
        "outputId": "da809bbb-a02a-495e-eb8d-0eef4a0defce"
      },
      "execution_count": 10,
      "outputs": [
        {
          "output_type": "stream",
          "name": "stdout",
          "text": [
            "0.9863939238321436\n"
          ]
        }
      ]
    },
    {
      "cell_type": "code",
      "source": [
        "\n",
        "query = [1, 1]\n",
        "doc1 = [2, 4]\n",
        "\n",
        "def length(vector):\n",
        "    sq_length = 0\n",
        "    for index in range(0, len(vector)):\n",
        "        sq_length += math.pow(vector[index], 2)\n",
        "    return math.sqrt(sq_length)\n",
        "    \n",
        "def dot_product(vector1, vector2):\n",
        "    if len(vector1)==len(vector2):\n",
        "        dot_prod = 0\n",
        "        for index in range(0, len(vector1)):\n",
        "            dot_prod += vector1[index]*vector2[index]\n",
        "        return dot_prod\n",
        "    else:\n",
        "        return \"Unmatching dimensionality\"\n",
        "\n",
        "cosine=dot_product(query, doc1)/(length(query)*length(doc1))\n",
        "print (cosine)"
      ],
      "metadata": {
        "colab": {
          "base_uri": "https://localhost:8080/"
        },
        "id": "cA4kJzCYG77Q",
        "outputId": "7ebac1d2-ff4a-4d0f-8c65-03e0e4b90371"
      },
      "execution_count": 11,
      "outputs": [
        {
          "output_type": "stream",
          "name": "stdout",
          "text": [
            "0.9486832980505138\n"
          ]
        }
      ]
    }
  ]
}