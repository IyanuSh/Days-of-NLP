{
  "nbformat": 4,
  "nbformat_minor": 0,
  "metadata": {
    "colab": {
      "provenance": []
    },
    "kernelspec": {
      "name": "python3",
      "display_name": "Python 3"
    },
    "language_info": {
      "name": "python"
    }
  },
  "cells": [
    {
      "cell_type": "markdown",
      "source": [
        "This dataset is the ENCRON mail dataset that has been split into two - ham and spam "
      ],
      "metadata": {
        "id": "qMbC2I2nsf9D"
      }
    },
    {
      "cell_type": "code",
      "execution_count": 1,
      "metadata": {
        "colab": {
          "base_uri": "https://localhost:8080/"
        },
        "id": "GobP6t-7sZvy",
        "outputId": "b002dcf2-0c6d-4cac-bdde-a246623e22d2"
      },
      "outputs": [
        {
          "output_type": "stream",
          "name": "stdout",
          "text": [
            "Mounted at /content/gdrive\n"
          ]
        }
      ],
      "source": [
        "from google.colab import drive\n",
        "drive.mount('/content/gdrive')"
      ]
    },
    {
      "cell_type": "code",
      "source": [
        "import os\n",
        "\n",
        "import codecs"
      ],
      "metadata": {
        "id": "yr8drdh-XgvW"
      },
      "execution_count": 2,
      "outputs": []
    },
    {
      "cell_type": "markdown",
      "source": [
        "**Reading the Contents of the Files in the Enron Folder**\n"
      ],
      "metadata": {
        "id": "NICoBVeGhOHE"
      }
    },
    {
      "cell_type": "markdown",
      "source": [
        "\n",
        "The folder has two folders - ham & spam.\n",
        "The lines of code below are doing the following.\n",
        "* define a function that takes in a folder as a parameter \n",
        "* call the os.listdir function on the folder and save it as a file (os.litdir function gets the list of all files and directories in the specified directory)\n",
        "* initiate an empty list a_list\n",
        "* using the for loop to access all the files - lists of files in the folder\n",
        "* if the files doesnt start with '.', open the files, append to the a_list \n",
        "* return the files as a list - a_list"
      ],
      "metadata": {
        "id": "CmhUZ1ZpaM6p"
      }
    },
    {
      "cell_type": "code",
      "source": [
        "def read_in(folder):\n",
        "    files = os.listdir(folder)\n",
        "    a_list = []\n",
        "    for a_file in files:\n",
        "        if not a_file.startswith(\".\"):\n",
        "            f = codecs.open(folder + a_file, \"r\", encoding = \"ISO-8859-1\", errors=\"ignore\")\n",
        "            a_list.append(f.read())\n",
        "            f.close()\n",
        "    return a_list"
      ],
      "metadata": {
        "id": "YEYKlr5xXgZl"
      },
      "execution_count": 3,
      "outputs": []
    },
    {
      "cell_type": "markdown",
      "source": [
        "**Define Classes and Labels**"
      ],
      "metadata": {
        "id": "OGxemjl8hTMO"
      }
    },
    {
      "cell_type": "code",
      "source": [
        "#call the read_in function on spam_list to store the folders of spam  \n",
        "spam_list = read_in('/content/gdrive/MyDrive/enron1/spam/')\n"
      ],
      "metadata": {
        "id": "kLK-C96ZXv4G"
      },
      "execution_count": 4,
      "outputs": []
    },
    {
      "cell_type": "code",
      "source": [
        "os.chdir('/content/gdrive/MyDrive')\n",
        "!ls"
      ],
      "metadata": {
        "id": "QAKkBFfdYpOh"
      },
      "execution_count": null,
      "outputs": []
    },
    {
      "cell_type": "code",
      "source": [
        "#print the first item in the list \n",
        "print(len(spam_list))\n",
        "print(spam_list[0])\n"
      ],
      "metadata": {
        "colab": {
          "base_uri": "https://localhost:8080/"
        },
        "id": "KjgAnPHXXv7m",
        "outputId": "b7940015-c824-4e97-c4c7-f1c8801b7f05"
      },
      "execution_count": 6,
      "outputs": [
        {
          "output_type": "stream",
          "name": "stdout",
          "text": [
            "1500\n",
            "Subject:! Ebay reguiar verification\r\n",
            "% words% words% words% words\r\n",
            "Dle! A; rcuelbiaiyyou: s, e: r,\r\n",
            "% words% words% words\r\n",
            "% words% words% words\r\n",
            "Regards,\r\n",
            "E: bla: y% words\r\n",
            "% words% words% words\r\n",
            "% words% words\r\n",
            "% words\r\n",
            "% words% words\r\n",
            "% words% words\r\n",
            "\n"
          ]
        }
      ]
    },
    {
      "cell_type": "code",
      "source": [
        "#call the read_in function on ham_list to store the folders of ham and print the first item in the list \n",
        "ham_list = read_in(\"/content/gdrive/MyDrive/enron1/ham/\")\n",
        "print(len(ham_list))\n",
        "print(ham_list[0])\n"
      ],
      "metadata": {
        "colab": {
          "base_uri": "https://localhost:8080/"
        },
        "id": "r1DKUO0lXv_h",
        "outputId": "e241ef02-38f3-47bd-fbbf-ac58bf7d37b1"
      },
      "execution_count": 7,
      "outputs": [
        {
          "output_type": "stream",
          "name": "stdout",
          "text": [
            "3672\n",
            "Subject: fw: gop action plan: what you can do!\r\n",
            "- - - - - original message - - - - -\r\n",
            "From: alex fagen [mailto: alex@ fagens. Net]\r\n",
            "Sent: wednesday, november 15, 2000 9: 56 pm\r\n",
            "To: undisclosed - recipient:@ rad 3. 1 stup. Com;\r\n",
            "Subject: fw: gop action plan: what you can do!\r\n",
            "- - - - - original message - - - - -\r\n",
            "From: kenneth r. Pybus\r\n",
            "To:\r\n",
            "Sent: wednesday, november 15, 2000 9: 28 am\r\n",
            "Subject: fwd: gop action plan: what you can do!\r\n",
            "> I got this from paul sperry at worldnetdaily\r\n",
            ">\r\n",
            ">\r\n",
            "> >\r\n",
            "> > I don' t know who joe morris is, but this sounds like a plan! (note that\r\n",
            "> > this has been circulating since last thursday.)\r\n",
            "> > - - - - - - - - - - - - - - - - - - - - - - - - - - - - - - - - - - - - - - - -\r\n",
            "> > united republican fund of illinois\r\n",
            "> > chicago\r\n",
            "> >\r\n",
            "> > november 9, 2000\r\n",
            "> >\r\n",
            "> > from: joseph a. Morris, president\r\n",
            "> > to: urf leaders and friends\r\n",
            "> >\r\n",
            "> > herewith is some practical advice on action that every citizen can take\r\n",
            "> > in the event that the florida recount confirms the election of george\r\n",
            "> > bush, but al gore fails to concede.\r\n",
            "> >\r\n",
            "> > we all know what is going on in florida, and that the election hinges on\r\n",
            "> > the outcome. I am writing you today to prepare us all for what we will\r\n",
            "> > have to do if what I think is going to happen actually does.\r\n",
            "> >\r\n",
            "> > the recount, which will be finished by 5 p. M. Thursday, will likely show\r\n",
            "> > bush to be the winner once again, with only a few thousand overseas\r\n",
            "> > ballots to be counted. Those ballots will be overwhelmingly for bush, a\r\n",
            "> > minimum of 60% and probably closer to 75%. If the count goes our way\r\n",
            "> > tomorrow, we have won this\r\n",
            "> > election.\r\n",
            "> >\r\n",
            "> > this is when something critical happens. Either gore bows out gracefully\r\n",
            "> > or he doesn' t, and I can almost guarantee he won' t. These are people\r\n",
            "> > wedded to power who will only go down kicking and screaming. They will\r\n",
            "> > use every legal maneuver in the book to steal the election. (in 1960,\r\n",
            "> > when richard nixon had every right and reason to challenge the election\r\n",
            "> > results he didn' t for the sake of the country. Expect no such noble\r\n",
            "> > behavior this time.)\r\n",
            "> >\r\n",
            "> > what will they try? One bet is to find a friendly judge to throw out the\r\n",
            "> > florida results on a flimsy premise. They are already floating this as a\r\n",
            "> > trial balloon in the form of the allegedly\" confusing\" ballots in palm\r\n",
            "> > beach county. I have seen the ballots - they are not confusing in the\r\n",
            "> > least. Indeed, they are identical in form to the punch - card ballots used\r\n",
            "> > in chicago\r\n",
            "> > and cook county, illinois, in this very election. What is more, it is\r\n",
            "> > just as likely that palm beach county voters who wanted to vote for bush\r\n",
            "> > inadvertently voted for nader. All parties approved the form of ballot\r\n",
            "> > before the election. The form - of - ballot issue is a mere pretext for an\r\n",
            "> > effort a judicial invalidation of the florida election.\r\n",
            "> >\r\n",
            "> > while I hope this scenario doesn' t come to pass, I fear that it will,\r\n",
            "> > and it will only have disastrous results for the country. The election\r\n",
            "> > fight could drag on for months and actually be decided by a court! If\r\n",
            "> > this comes to pass the vision of our founders and the blood of patriots\r\n",
            "> > will have been betrayed.\r\n",
            "> >\r\n",
            "> > personally, I am not going to stand for this, and I hope you won' t\r\n",
            "> > either. The good news is that we are not without voice.\r\n",
            "> >\r\n",
            "> > here is what must be done: if the vote count affirms bush' s election, we\r\n",
            "> > allow a short grace period to see the reaction of the gore camp. If they\r\n",
            "> > have not graciously conceded after a few hours, we must bombard the news\r\n",
            "> > media and our public officials at every level with phone calls of\r\n",
            "> > outrage that demand gore' s concession. I mean literally millions of\r\n",
            "> > phone calls. We must\r\n",
            "> > jam their phone banks with calls. There are millions of us so it\r\n",
            "> > shouldn' t be too difficult. (while you' re at it, send e - mails to your\r\n",
            "> > local newspapers as well.)\r\n",
            "> >\r\n",
            "> > if it becomes widely reported - and it will - that there is a\r\n",
            "> > groundswell demanding that gore back down and not embarrass the country,\r\n",
            "> > it will be very difficult for gore to withstand the pressure. He will\r\n",
            "> > have to relent.\r\n",
            "> >\r\n",
            "> > here are some places to start:\r\n",
            "> >\r\n",
            "> > the white house: telephone (202) 456 - 4114 fax: (202) 456 - 2461 e - mail\r\n",
            "> > president@ whitehouse. Gov\r\n",
            "> >\r\n",
            "> > the vice president' s office: telephone: (202) 274 - 5000\r\n",
            "> > fax: (202) 456 - 2883 e - mail vice. President@ whitehouse. Gov\r\n",
            "> >\r\n",
            "> > vice president' s senate office: telephone: (202) 224 - 2424\r\n",
            "> >\r\n",
            "> > senator tom daschle (senate democratic leader): (202) 224 - 2321\r\n",
            "> > also: (202) 224 - 5556\r\n",
            "> >\r\n",
            "> > representative dick gephardt (house democratic leader):\r\n",
            "> > (202) 225 - 2671 also: (202) 225 - - 0100\r\n",
            "> >\r\n",
            "> > also, be sure to call your congressmen and both your senators. All these\r\n",
            "> > numbers are easily located on voter. Com. You can also contact them\r\n",
            "> > through the u. S. Capitol switchboard:\r\n",
            "> >\r\n",
            "> > u. S. Capitol switchboard (all senators and representatives): (202)\r\n",
            "> > 224 - 3121\r\n",
            "> >\r\n",
            "> > another office to call is that of chicago' s mayor richard m. Daley (the\r\n",
            "> > brother of gore' s campaign manager, bill daley):\r\n",
            "> > telephone: (312) 744 - 3300 fax: (312) 744 - 2324\r\n",
            "> >\r\n",
            "> > if you' ve never made a call like this, there' s no reason to be shy. They\r\n",
            "> > get opinion calls all the time and are set up to take them. In fact they\r\n",
            "> > like calls. It helps them tell which way the wind is blowing.\r\n",
            "> >\r\n",
            "> > some media contacts:\r\n",
            "> >\r\n",
            "> > boston globe (617) 929 - 2000\r\n",
            "> > matthew v. Storin, editor (617) 929 - 3049\r\n",
            "> > e - mail: storin@ globe. Com\r\n",
            "> >\r\n",
            "> > boston herald andrew costello, editor (617) 619 - 6400\r\n",
            "> > e - mail: acostello@ bostonherald. Com\r\n",
            "> >\r\n",
            "> > chicago sun - times: (312) 321 - 3000\r\n",
            "> > michael cooke, editor in chief e - mail: mcooke@ suntimes. Com\r\n",
            "> >\r\n",
            "> > chicago tribune (800) 874 - 2863\r\n",
            "> > howard a. Tyner, editor e - mail: chied@ aol. Com\r\n",
            "> > bruce dold, editorial page editor e - mail: bdold@ tribune. Com\r\n",
            "> >\r\n",
            "> > los angeles times (213) 237 - 7935 (opinion department)\r\n",
            "> > (213) 237 - 4511 and fax: (213) 237 - 7679 (letters to the editor)\r\n",
            "> > (202) 293 - 4650 (washington bureau)\r\n",
            "> > e - mail: www. Latimes. Com (follow prompts to e - mail windows)\r\n",
            "> >\r\n",
            "> > new york post (212) 930 - 8000\r\n",
            "> > john mancini, news e - mail: jmancini@ nypost. Com\r\n",
            "> >\r\n",
            "> > new york times (212) 556 - 1234\r\n",
            "> > joseph lelyveld, executive editor\r\n",
            "> > letters to the editor fax: (212) 556 - 3622\r\n",
            "> > e - mail: letters@ nytimes. Com.\r\n",
            "> >\r\n",
            "> > philadelphia inquirer (215) 854 - 4500\r\n",
            "> > letters to the editor: inquirer. Letters@ phillynews. Com\r\n",
            "> >\r\n",
            "> > usa today (703) 276 - 3400 karen jurgenson, editor\r\n",
            "> > e - mail: www. Usatoday. Com and follow feedback prompts\r\n",
            "> >\r\n",
            "> > washington post (202) 334 - 6000\r\n",
            "> > fred hiatt, editorial page editor e - mail: hiattf@ washpost. Com\r\n",
            "> >\r\n",
            "> > time e - mail: letters@ time. Com\r\n",
            "> >\r\n",
            "> > abc e - mail: http:// abc. Go. Com/abc/help/contact. Html\r\n",
            "> >\r\n",
            "> > cnn (404) 827 - 1500\r\n",
            "> >\r\n",
            "> > cbs (212) 975 - 4321\r\n",
            "> >\r\n",
            "> > msnbc e - mail: world@ msnbc. Com\r\n",
            "> >\r\n",
            "> > nbc nbc - nightly news: e - mail: nightly@ nbc. Com\r\n",
            "> > nbc today show: e - mail: today@ nbc. Com\r\n",
            "> >\r\n",
            "> > i' m hoping none of this will be necessary, but I fear otherwise. As\r\n",
            "> > edmund burke said, the price of freedom is eternal vigilance.\r\n",
            "> >\r\n",
            "> > this e - mail is just to prepare you for the battle that we must engage.\r\n",
            "> >\r\n",
            "> > please forward this e - mail message to everyone you can think of. If we\r\n",
            "> > harness the power of the internet, by tomorrow millions of us will be\r\n",
            "> > ready!\r\n",
            "> >\r\n",
            "> >/s/morris\r\n",
            ">\r\n",
            "> - -\r\n",
            "> kenneth r. Pybus\r\n",
            "> managing editor, houston business journal\r\n",
            "> 1001 west loop south, suite 650\r\n",
            "> houston, texas 77027\r\n",
            "> 713 - 688 - 8811\r\n",
            "> fax: 713 - 968 - 8025\r\n",
            "> krpybus@ bizjournals. Com\r\n",
            ">\r\n",
            "_ _ _ _ _ _ _ _ _ _ _ _ _ _ _ _ _ _ _ _ _ _ _ _ _ _ _ _ _ _ _ _ _ _ _ _ _ _ _ _ _ _ _ _ _ _ _ _ _ _ _ _ _ _ _ _ lstup. Com - free the web\r\n",
            "Get your free internet access at http:// www. 1 stup. Com\n"
          ]
        }
      ]
    },
    {
      "cell_type": "markdown",
      "source": [
        "Now, we have the files - ham & spam stored as two lists. It is better to merge them together. A list comprehension will help to merge the two lists together. The list comprehension will retain the mails and their labels. \n",
        "\n",
        "Shuffle the list of data because we will eventually split them into test and train. \n",
        "\n",
        "Using the list comprehension, initiate a variable \"allemails\" that will take the spam mails and contents as well as add the ham mails. Using a random seed of 42 that will shuffle all the emails. "
      ],
      "metadata": {
        "id": "6oMf0kFyc4JB"
      }
    },
    {
      "cell_type": "code",
      "source": [
        "import random \n",
        "allemails = [(email_content,\"spam\") for email_content in spam_list]\n",
        "allemails += [(email_content,\"ham\") for email_content in ham_list]\n",
        "random.seed(42)\n",
        "random.shuffle(allemails)\n",
        "print(f\"Dataset size = {str(len(allemails))} emails\")"
      ],
      "metadata": {
        "colab": {
          "base_uri": "https://localhost:8080/"
        },
        "id": "dnA2KeJnXwDA",
        "outputId": "056cf23f-f370-4832-e1d1-4f45bc890849"
      },
      "execution_count": 8,
      "outputs": [
        {
          "output_type": "stream",
          "name": "stdout",
          "text": [
            "Dataset size = 5172 emails\n"
          ]
        }
      ]
    },
    {
      "cell_type": "markdown",
      "source": [
        "**Split Text into Words**\n",
        "\n",
        "using the tokenizer attribute in the Natural Language Processing ToolKit"
      ],
      "metadata": {
        "id": "BkRyj0RWhZCa"
      }
    },
    {
      "cell_type": "code",
      "source": [
        "import nltk\n",
        "from nltk import word_tokenize\n",
        "nltk.download('punkt')"
      ],
      "metadata": {
        "colab": {
          "base_uri": "https://localhost:8080/"
        },
        "id": "MdL2yZG_hmrG",
        "outputId": "6c1c28e8-2fd9-49fa-d503-07da3a8e0e22"
      },
      "execution_count": 9,
      "outputs": [
        {
          "output_type": "stream",
          "name": "stderr",
          "text": [
            "[nltk_data] Downloading package punkt to /root/nltk_data...\n",
            "[nltk_data]   Unzipping tokenizers/punkt.zip.\n"
          ]
        },
        {
          "output_type": "execute_result",
          "data": {
            "text/plain": [
              "True"
            ]
          },
          "metadata": {},
          "execution_count": 9
        }
      ]
    },
    {
      "cell_type": "markdown",
      "source": [
        "**Code Explanation**\n",
        "\n",
        "- define a tokenize function that takes in input as a argument\n",
        "- initiate an empty word_list \n",
        "- using for loop to access every word in the word_tokenize module,\n",
        "- append the word to the word_list and return the word_list"
      ],
      "metadata": {
        "id": "n62dVQAor_rk"
      }
    },
    {
      "cell_type": "code",
      "source": [
        "def tokenize(input):\n",
        "  word_list = []\n",
        "  for word in word_tokenize(input):\n",
        "    word_list.append(word)\n",
        "  return word_list\n",
        "input = \"Iyanuoluwa is a beauty queen. She is smart\"\n",
        "print(tokenize(input))"
      ],
      "metadata": {
        "colab": {
          "base_uri": "https://localhost:8080/"
        },
        "id": "kkU_zu-6h4hP",
        "outputId": "7ce93528-2a7e-40a9-d284-7e7ff72ac77b"
      },
      "execution_count": 10,
      "outputs": [
        {
          "output_type": "stream",
          "name": "stdout",
          "text": [
            "['Iyanuoluwa', 'is', 'a', 'beauty', 'queen', '.', 'She', 'is', 'smart']\n"
          ]
        }
      ]
    },
    {
      "cell_type": "markdown",
      "source": [
        "**Text Normalization & Features Extraction**\n",
        "\n",
        "this steps help to normalize the text. basically, turning the text to lower case. also, you get to extract the features of the data from tokenized list."
      ],
      "metadata": {
        "id": "aFAMMdxpjPC-"
      }
    },
    {
      "cell_type": "code",
      "source": [
        "def get_features(text):\n",
        "  features = {}\n",
        "  word_list = [word for word in word_tokenize(text.lower())]\n",
        "  for word in word_list:\n",
        "    features[word] = True\n",
        "  return features\n",
        "\n",
        "all_features = [(get_features(email),label)\n",
        "                 for (email, label) in allemails]\n",
        "\n",
        "              "
      ],
      "metadata": {
        "id": "qFQKbM2dh4oG"
      },
      "execution_count": 11,
      "outputs": []
    },
    {
      "cell_type": "code",
      "source": [
        "print(get_features(\"We are buying Lotteries Today!\"))"
      ],
      "metadata": {
        "colab": {
          "base_uri": "https://localhost:8080/"
        },
        "id": "D3azKa7Vh4qp",
        "outputId": "240b066a-edf9-4d53-8d2e-52836e6a05eb"
      },
      "execution_count": 12,
      "outputs": [
        {
          "output_type": "stream",
          "name": "stdout",
          "text": [
            "{'we': True, 'are': True, 'buying': True, 'lotteries': True, 'today': True, '!': True}\n"
          ]
        }
      ]
    },
    {
      "cell_type": "code",
      "source": [
        "print(len(all_features))"
      ],
      "metadata": {
        "colab": {
          "base_uri": "https://localhost:8080/"
        },
        "id": "iIjn2Jl5h4tc",
        "outputId": "19d0e4f0-a32c-4b62-efb5-a2d2b7e8726d"
      },
      "execution_count": 13,
      "outputs": [
        {
          "output_type": "stream",
          "name": "stdout",
          "text": [
            "5172\n"
          ]
        }
      ]
    },
    {
      "cell_type": "code",
      "source": [
        "print(len(all_features[0][0]))"
      ],
      "metadata": {
        "colab": {
          "base_uri": "https://localhost:8080/"
        },
        "id": "b01AghXt84DZ",
        "outputId": "67782696-9dbf-416e-abd6-511cc6dc5a16"
      },
      "execution_count": 14,
      "outputs": [
        {
          "output_type": "stream",
          "name": "stdout",
          "text": [
            "50\n"
          ]
        }
      ]
    },
    {
      "cell_type": "code",
      "source": [
        "print(len(all_features[99][0]))"
      ],
      "metadata": {
        "colab": {
          "base_uri": "https://localhost:8080/"
        },
        "id": "BPduAvZ884Lw",
        "outputId": "0461d424-6bd0-42b1-95fc-91d94c1a80b1"
      },
      "execution_count": 15,
      "outputs": [
        {
          "output_type": "stream",
          "name": "stdout",
          "text": [
            "17\n"
          ]
        }
      ]
    },
    {
      "cell_type": "code",
      "source": [
        "all_features[99][0]"
      ],
      "metadata": {
        "colab": {
          "base_uri": "https://localhost:8080/"
        },
        "id": "lL25ody884OF",
        "outputId": "28ec946f-f4fd-4587-cc00-86ab296ff510"
      },
      "execution_count": 16,
      "outputs": [
        {
          "output_type": "execute_result",
          "data": {
            "text/plain": [
              "{'subject': True,\n",
              " ':': True,\n",
              " 'calpine': True,\n",
              " 'daily': True,\n",
              " 'gas': True,\n",
              " 'nomination': True,\n",
              " 'as': True,\n",
              " 'we': True,\n",
              " 'spoke': True,\n",
              " 'of': True,\n",
              " 'this': True,\n",
              " 'morning': True,\n",
              " '.': True,\n",
              " '>': True,\n",
              " '-': True,\n",
              " '1.': True,\n",
              " 'doc': True}"
            ]
          },
          "metadata": {},
          "execution_count": 16
        }
      ]
    },
    {
      "cell_type": "code",
      "source": [
        "all_features[99]"
      ],
      "metadata": {
        "colab": {
          "base_uri": "https://localhost:8080/"
        },
        "id": "LNf076ps84QX",
        "outputId": "e0886936-0ef0-4acc-ca49-5900e0824a79"
      },
      "execution_count": 17,
      "outputs": [
        {
          "output_type": "execute_result",
          "data": {
            "text/plain": [
              "({'subject': True,\n",
              "  ':': True,\n",
              "  'calpine': True,\n",
              "  'daily': True,\n",
              "  'gas': True,\n",
              "  'nomination': True,\n",
              "  'as': True,\n",
              "  'we': True,\n",
              "  'spoke': True,\n",
              "  'of': True,\n",
              "  'this': True,\n",
              "  'morning': True,\n",
              "  '.': True,\n",
              "  '>': True,\n",
              "  '-': True,\n",
              "  '1.': True,\n",
              "  'doc': True},\n",
              " 'ham')"
            ]
          },
          "metadata": {},
          "execution_count": 17
        }
      ]
    },
    {
      "cell_type": "code",
      "source": [
        "type(all_features)"
      ],
      "metadata": {
        "colab": {
          "base_uri": "https://localhost:8080/"
        },
        "id": "nC1YozSW9vo4",
        "outputId": "a172199b-15ee-4897-8370-e5d7864a45ba"
      },
      "execution_count": 18,
      "outputs": [
        {
          "output_type": "execute_result",
          "data": {
            "text/plain": [
              "list"
            ]
          },
          "metadata": {},
          "execution_count": 18
        }
      ]
    },
    {
      "cell_type": "markdown",
      "source": [
        "**Training A Naive Bayes Classifier.**\n",
        "\n",
        "This is one of the common models used for classification. With the code below, you split the data into training and test sets with a 80:20 proportion. Train the classifer with 80% of the data and evaluate i.e test whether the classifier is working accurately with the remaining 20% of the data.\n",
        "\n",
        "Code Explanation: \n",
        "define a train function that takes in two arguements - features (remember the features are the already prepared data that's ready for processing) and proportions you want to divide the features into training and testing sets.  "
      ],
      "metadata": {
        "id": "5hjBY6rPqUOd"
      }
    },
    {
      "cell_type": "code",
      "source": [
        "from nltk import NaiveBayesClassifier, classify\n",
        "\n",
        "def train(features, proportion):\n",
        "    train_size = int(len(features) * proportion)\n",
        "    # initialise the training and test sets\n",
        "    train_set, test_set = features[:train_size], features[train_size:]\n",
        "    print (f\"Training set size = {str(len(train_set))} emails\")\n",
        "    print (f\"Test set size = {str(len(test_set))} emails\")\n",
        "    # train the classifier\n",
        "    classifier = NaiveBayesClassifier.train(train_set)\n",
        "    return train_set, test_set, classifier\n",
        "\n",
        "train_set, test_set, classifier = train(all_features, 0.8)"
      ],
      "metadata": {
        "colab": {
          "base_uri": "https://localhost:8080/"
        },
        "id": "y6dX9ZIi84Sk",
        "outputId": "b390a951-630e-4886-a1e7-56189b5a8dc5"
      },
      "execution_count": 19,
      "outputs": [
        {
          "output_type": "stream",
          "name": "stdout",
          "text": [
            "Training set size = 4137 emails\n",
            "Test set size = 1035 emails\n"
          ]
        }
      ]
    },
    {
      "cell_type": "markdown",
      "source": [
        "**Test The Classifier**\n",
        "\n",
        "Let's see whether the model can accurately detect whether an email is a spam or ham. How can you do that, you use metrics. One of which is **accuracy**."
      ],
      "metadata": {
        "id": "nU4Qb6UhrAt_"
      }
    },
    {
      "cell_type": "code",
      "source": [
        "def evaluate(train_set, test_set, classifier):\n",
        "    # check how the classifier performs on the training and test sets\n",
        "    print (f\"Accuracy on the training set = {str(classify.accuracy(classifier, train_set))}\")\n",
        "    print (f\"Accuracy on the test set = {str(classify.accuracy(classifier, test_set))}\")    \n",
        "    # check which words are most informative for the classifier\n",
        "    classifier.show_most_informative_features(50)\n",
        "\n",
        "evaluate(train_set, test_set, classifier)"
      ],
      "metadata": {
        "colab": {
          "base_uri": "https://localhost:8080/"
        },
        "id": "8HgAN0N-eSia",
        "outputId": "650a48d6-a8a4-49ae-83b6-096fd1e6fef6"
      },
      "execution_count": 20,
      "outputs": [
        {
          "output_type": "stream",
          "name": "stdout",
          "text": [
            "Accuracy on the training set = 0.9625332366449117\n",
            "Accuracy on the test set = 0.9497584541062802\n",
            "Most Informative Features\n",
            "               forwarded = True              ham : spam   =    201.0 : 1.0\n",
            "                    2004 = True             spam : ham    =    147.0 : 1.0\n",
            "            prescription = True             spam : ham    =    132.5 : 1.0\n",
            "                    spam = True             spam : ham    =     90.8 : 1.0\n",
            "                    2005 = True             spam : ham    =     81.1 : 1.0\n",
            "                     ect = True              ham : spam   =     78.2 : 1.0\n",
            "                      ex = True             spam : ham    =     73.1 : 1.0\n",
            "                creative = True             spam : ham    =     71.5 : 1.0\n",
            "              nomination = True              ham : spam   =     71.0 : 1.0\n",
            "             medications = True             spam : ham    =     68.3 : 1.0\n",
            "                   adobe = True             spam : ham    =     66.7 : 1.0\n",
            "                      cc = True              ham : spam   =     65.9 : 1.0\n",
            "                   epson = True             spam : ham    =     61.8 : 1.0\n",
            "                   cisco = True             spam : ham    =     57.0 : 1.0\n",
            "                 dealers = True             spam : ham    =     53.8 : 1.0\n",
            "                   risks = True             spam : ham    =     53.8 : 1.0\n",
            "                    2001 = True              ham : spam   =     52.9 : 1.0\n",
            "                   cheap = True             spam : ham    =     51.6 : 1.0\n",
            "                    draw = True             spam : ham    =     50.6 : 1.0\n",
            "                     tap = True              ham : spam   =     48.8 : 1.0\n",
            "                  health = True             spam : ham    =     47.7 : 1.0\n",
            "                     ami = True              ham : spam   =     46.1 : 1.0\n",
            "                 doctors = True             spam : ham    =     45.8 : 1.0\n",
            "                reliable = True             spam : ham    =     45.8 : 1.0\n",
            "              affordable = True             spam : ham    =     42.6 : 1.0\n",
            "                inherent = True             spam : ham    =     42.6 : 1.0\n",
            "                powerful = True             spam : ham    =     42.6 : 1.0\n",
            "                   julie = True              ham : spam   =     42.2 : 1.0\n",
            "                conflict = True             spam : ham    =     41.0 : 1.0\n",
            "               publisher = True             spam : ham    =     41.0 : 1.0\n",
            "                     ibm = True             spam : ham    =     40.0 : 1.0\n",
            "                   susan = True              ham : spam   =     40.0 : 1.0\n",
            "                   steve = True              ham : spam   =     39.4 : 1.0\n",
            "                deciding = True             spam : ham    =     39.4 : 1.0\n",
            "                 explode = True             spam : ham    =     39.4 : 1.0\n",
            "                     fat = True             spam : ham    =     39.4 : 1.0\n",
            "                    body = True             spam : ham    =     39.0 : 1.0\n",
            "                    lisa = True              ham : spam   =     38.3 : 1.0\n",
            "                    acts = True             spam : ham    =     37.7 : 1.0\n",
            "                    sony = True             spam : ham    =     37.1 : 1.0\n",
            "                       u = True             spam : ham    =     36.1 : 1.0\n",
            "                 advises = True             spam : ham    =     36.1 : 1.0\n",
            "                  border = True             spam : ham    =     34.5 : 1.0\n",
            "                    font = True             spam : ham    =     34.5 : 1.0\n",
            "                 foresee = True             spam : ham    =     34.5 : 1.0\n",
            "                   women = True             spam : ham    =     34.2 : 1.0\n",
            "                     713 = True              ham : spam   =     33.3 : 1.0\n",
            "                    duke = True              ham : spam   =     33.1 : 1.0\n",
            "                 effects = True             spam : ham    =     32.9 : 1.0\n",
            "                 filings = True             spam : ham    =     32.9 : 1.0\n"
          ]
        }
      ]
    },
    {
      "cell_type": "markdown",
      "source": [
        "From the above results;\n",
        "\n",
        "Accuracy on the training set = 0.9625332366449117\n",
        "Accuracy on the test set = 0.9497584541062802\n",
        "\n",
        "That's really good. "
      ],
      "metadata": {
        "id": "EoXuoiJvs9mt"
      }
    },
    {
      "cell_type": "code",
      "source": [
        "from nltk.text import Text\n",
        "\n",
        "def concordance(data_list, search_word):\n",
        "    for email in data_list:\n",
        "        word_list = [word for word in word_tokenize(email.lower())]\n",
        "        text_list = Text(word_list)\n",
        "        if search_word in word_list:\n",
        "            text_list.concordance(search_word)\n",
        "\n",
        "\n",
        "print (\"STOCKS in HAM:\")\n",
        "concordance(ham_list, \"stocks\")\n",
        "print (\"\\n\\nSTOCKS in SPAM:\")\n",
        "concordance(spam_list, \"stocks\")"
      ],
      "metadata": {
        "colab": {
          "base_uri": "https://localhost:8080/"
        },
        "id": "zS1uBrYeeb1t",
        "outputId": "1bd236ff-d57d-4e8e-b535-f437eb32088d"
      },
      "execution_count": 21,
      "outputs": [
        {
          "output_type": "stream",
          "name": "stdout",
          "text": [
            "STOCKS in HAM:\n",
            "Displaying 1 of 1 matches:\n",
            "ur member directory . * follow your stocks and news headlines , exchange files\n",
            "Displaying 1 of 1 matches:\n",
            "ur member directory . * follow your stocks and news headlines , exchange files\n",
            "Displaying 1 of 1 matches:\n",
            "ur member directory . * follow your stocks and news headlines , exchange files\n",
            "Displaying 1 of 1 matches:\n",
            "ad my portfolio is diversified into stocks that have lost even more money than\n",
            "\n",
            "\n",
            "STOCKS in SPAM:\n",
            "Displaying 4 of 4 matches:\n",
            "n this stock . some of these smal | stocks are absoiuteiy fiying , as many of \n",
            " statements . as with many microcap stocks , todays company has additional ris\n",
            "biication pertaining to investing , stocks , securities must be understood as \n",
            "ntative before deciding to trade in stocks featured within this publication . \n",
            "Displaying 3 of 3 matches:\n",
            "might occur . as with many microcap stocks , today ' s company has additiona |\n",
            "is emai | pertaining to investing , stocks , securities must be understood as \n",
            "ntative before deciding to trade in stocks featured within this emai | . none \n",
            "Displaying 1 of 1 matches:\n",
            "in apple investments , inc profiled stocks . in order to be in full compliance\n",
            "Displaying 3 of 3 matches:\n",
            "might occur . as with many microcap stocks , today ' s company has additiona |\n",
            "his email pertaining to investing , stocks , securities must be understood as \n",
            "ntative before deciding to trade in stocks featured within this email . none o\n",
            "Displaying 3 of 3 matches:\n",
            "his email pertaining to investing , stocks , securities must be understood as \n",
            "ntative before deciding to trade in stocks featured within this email . none o\n",
            " lose money from investing in penny stocks . if you wish to stop future mailin\n",
            "Displaying 2 of 2 matches:\n",
            "rt identifying defense and security stocks ready to explode look at the moves \n",
            " actual exchanges where small - cap stocks are traded . silica stopband doorkn\n",
            "Displaying 2 of 2 matches:\n",
            "is emai | pertaining to investing , stocks , securities must be understood as \n",
            "ntative before deciding to trade in stocks featured within this email . none o\n",
            "Displaying 1 of 1 matches:\n",
            "subject : fwd : screw doctors . stocks available . vlagr @ . x _ a _ nax .\n",
            "Displaying 4 of 4 matches:\n",
            "hree days . play of the week tracks stocks on downward trends , foresees botto\n",
            "mark is our uncanny ability to spot stocks that have bottomed - out and antici\n",
            "ound and upward trend . most of the stocks we track rebound and peak within ju\n",
            "om third party . investing in penny stocks is high risk and you should seek pr\n",
            "Displaying 2 of 2 matches:\n",
            "ims and do your own due diligence . stocks to play ( s 2 p ) profiles are not \n",
            "s obtained . investing in micro cap stocks is extremely risky and , investors \n",
            "Displaying 1 of 1 matches:\n",
            "cautions that small and micro - cap stocks are high - risk investments and tha\n",
            "Displaying 1 of 1 matches:\n",
            "ecializing in undervalued small cap stocks for immediate breakout erhc and exx\n",
            "Displaying 6 of 6 matches:\n",
            " if you knew about these low priced stocks : otcbb : zapz : closed march 31 st\n",
            " following points : * many of these stocks are undiscovered and uncovered ! wh\n",
            " ! ! * * many of these undiscovered stocks are like coiled springs , wound tig\n",
            "might occur . as with many microcap stocks , today ' s company has additional \n",
            "his email pertaining to investing , stocks , securities must be understood as \n",
            "ntative before deciding to trade in stocks featured within this email . none o\n",
            "Displaying 3 of 3 matches:\n",
            "torage inc. play of the week tracks stocks on downward trends , foresees botto\n",
            "his email pertaining to investing , stocks , securities must be understood as \n",
            "ntative before deciding to trade in stocks featured within this email . none o\n",
            "Displaying 4 of 4 matches:\n",
            "his email pertaining to investing , stocks , securities must be understood as \n",
            "ntative before deciding to trade in stocks featured within this email . none o\n",
            "eep in mind that when trading small stocks like the company above there is a c\n",
            "t professional before investing any stocks or mutual funds .\n",
            "Displaying 3 of 3 matches:\n",
            " statements . as with many microcap stocks , todays company has additional ris\n",
            "blication pertaining to investing , stocks , securities must be understood as \n",
            "ntative before deciding to trade in stocks featured within this publication . \n",
            "Displaying 4 of 4 matches:\n",
            "y agree , some , not all , of these stocks move in price because they are prom\n",
            "tands or that as with many microcap stocks , today ' s company has additional \n",
            "is report pertaining to investing , stocks , securities must be understood as \n",
            "ntative before deciding to trade in stocks featured within this report . none \n",
            "Displaying 2 of 2 matches:\n",
            "ng their gains . select gold mining stocks are the hot flyers of the otc . his\n",
            "is letter cautions that micro - cap stocks are high - risk investments and tha\n",
            "Displaying 2 of 2 matches:\n",
            "his email pertaining to investing , stocks , securities must be understood as \n",
            "ntative before deciding to trade in stocks featured within this email . none o\n",
            "Displaying 1 of 1 matches:\n",
            "or information puposes only . penny stocks are considered highly speculative a\n",
            "Displaying 3 of 3 matches:\n",
            "might occur . as with many microcap stocks , today ' s company has additiona |\n",
            "is emai | pertaining to investing , stocks , securities must be understood as \n",
            "ntative before deciding to trade in stocks featured within this email . none o\n",
            "Displaying 5 of 5 matches:\n",
            "hursday ! some of these littie voip stocks have been realiy moving lateiy . an\n",
            "t can happen with these sma | | cap stocks when they take off . and it happens\n",
            " statements . as with many microcap stocks , today ' s company has additiona |\n",
            "is report pertaining to investing , stocks , securities must be understood as \n",
            "ntative before deciding to trade in stocks featured within this report . none \n",
            "Displaying 4 of 4 matches:\n",
            "ck monday some of these little voip stocks have been rea | | y moving lately .\n",
            " statements . as with many microcap stocks , today ' s company has additiona |\n",
            "is report pertaining to investing , stocks , securities must be understood as \n",
            "ntative before deciding to trade in stocks featured within this report . none \n",
            "Displaying 1 of 1 matches:\n",
            " the last 12 months , many of these stocks made tripie and even quadruple retu\n",
            "Displaying 1 of 1 matches:\n",
            " one trade monday ! go wysk . penny stocks are considered highiy speculative a\n",
            "Displaying 1 of 1 matches:\n",
            "ne trade thursday ! go fcdh . penny stocks are considered highiy specuiative a\n",
            "Displaying 2 of 2 matches:\n",
            " the last 12 months , many of these stocks made tripie and even quadruple retu\n",
            "one trade tuesday ! go mogi . penny stocks are considered highly speculative a\n",
            "Displaying 2 of 2 matches:\n",
            "ck monday some of these little voip stocks have been realiy moving lately . an\n",
            " one trade monday ! go ypil . penny stocks are considered highiy specuiative a\n",
            "Displaying 3 of 3 matches:\n",
            "n how many times have you seen good stocks but you couldn ' t get your hands o\n",
            "his email pertaining to investing , stocks , securities must be understood as \n",
            "ntative before deciding to trade in stocks featured within this email . none o\n",
            "Displaying 2 of 2 matches:\n",
            "his email pertaining to investing , stocks , securities must be understood as \n",
            "ntative before deciding to trade in stocks featured within this email . none o\n",
            "Displaying 4 of 4 matches:\n",
            "watch this one trade . these little stocks can surprise in a big way sometimes\n",
            "might occur . as with many microcap stocks , today ' s company has additional \n",
            "his email pertaining to investing , stocks , securities must be understood as \n",
            "ntative before deciding to trade in stocks featured within this email . none o\n",
            "Displaying 1 of 1 matches:\n",
            " one trade monday ! go ndin . penny stocks are considered highly speculative a\n",
            "Displaying 3 of 3 matches:\n",
            "report reveals this smallcap rocket stocks newsletter first we would like to s\n",
            "his email pertaining to investing , stocks , securities must be understood as \n",
            "ntative before deciding to trade in stocks featured within this email . none o\n",
            "Displaying 4 of 4 matches:\n",
            " the last 12 months , many of these stocks made triple and even quadruple retu\n",
            " statements . as with many microcap stocks , today ' s company has additiona |\n",
            "is report pertaining to investing , stocks , securities must be understood as \n",
            "ntative before deciding to trade in stocks featured within this report . none \n",
            "Displaying 2 of 2 matches:\n",
            "ck monday some of these little voip stocks have been really moving lately . an\n",
            " one trade monday ! go ypil . penny stocks are considered highiy specuiative a\n",
            "Displaying 4 of 4 matches:\n",
            "tion is key to stock success rocket stocks newsletter u r g e n t i n v e s t \n",
            "ht occur . as with many micro - cap stocks , today ' s company has additional \n",
            "his email pertaining to investing , stocks , securities must be understood as \n",
            "ntative before deciding to trade in stocks featured within this email . none o\n",
            "Displaying 2 of 2 matches:\n",
            " % on regular price we have massive stocks of drugs for same day dispatch fast\n",
            "e do have the lowest price and huge stocks ready for same - day dispatch . two\n",
            "Displaying 3 of 3 matches:\n",
            "5 how many times have you seen good stocks but you couldn ' t get your hands o\n",
            "his email pertaining to investing , stocks , securities must be understood as \n",
            "ntative before deciding to trade in stocks featured within this email . none o\n",
            "Displaying 1 of 1 matches:\n",
            " one trade monday ! go wysk . penny stocks are considered highiy specuiative a\n",
            "Displaying 2 of 2 matches:\n",
            " % on regular price we have massive stocks of drugs for same day dispatch fast\n",
            "e do have the lowest price and huge stocks ready for same - day dispatch . two\n",
            "Displaying 1 of 1 matches:\n",
            "_ _ _ _ _ _ _ _ _ _ _ _ _ _ penny - stocks are considered highly speculative a\n",
            "Displaying 2 of 2 matches:\n",
            " % on regular price we have massive stocks of drugs for same day dispatch fast\n",
            "e do have the lowest price and huge stocks ready for same - day dispatch . two\n",
            "Displaying 1 of 1 matches:\n",
            "scovering value in natural resource stocks elgin resources ( elr - tsx ) extra\n",
            "Displaying 1 of 1 matches:\n",
            "dge - ksige are you tired of buying stocks and not having them perform ? our s\n",
            "Displaying 1 of 1 matches:\n",
            " one trade monday ! go wysk . penny stocks are considered highiy specuiative a\n",
            "Displaying 2 of 2 matches:\n",
            "his email pertaining to investing , stocks , securities must be understood as \n",
            "ntative before deciding to trade in stocks featured within this email . none o\n",
            "Displaying 5 of 5 matches:\n",
            "ck monday some of these littie voip stocks have been really moving lately . an\n",
            "t can happen with these sma | | cap stocks when they take off . and it happens\n",
            " statements . as with many microcap stocks , today ' s company has additiona |\n",
            "is report pertaining to investing , stocks , securities must be understood as \n",
            "ntative before deciding to trade in stocks featured within this report . none \n",
            "Displaying 4 of 4 matches:\n",
            "k tuesday some of these littie voip stocks have been reaily moving lateiy . an\n",
            " statements . as with many microcap stocks , today ' s company has additional \n",
            "is report pertaining to investing , stocks , securities must be understood as \n",
            "ntative before deciding to trade in stocks featured within this report . none \n",
            "Displaying 2 of 2 matches:\n",
            "subject : penny stocks are about timing nomad internationa\n",
            " one trade friday ! go ndin . penny stocks are considered highiy speculative a\n",
            "Displaying 1 of 1 matches:\n",
            "the | ast 12 months , many of these stocks made triple and even quadruple retu\n",
            "Displaying 3 of 3 matches:\n",
            "might occur . as with many microcap stocks , today ' s company has additiona |\n",
            "is emai | pertaining to investing , stocks , securities must be understood as \n",
            "ntative before deciding to trade in stocks featured within this email . none o\n",
            "Displaying 4 of 4 matches:\n",
            "nt opportunity drummond , small cap stocks alert newsletter must read - alert \n",
            "his email pertaining to investing , stocks , securities must be understood as \n",
            "ntative before deciding to trade in stocks featured within this email . none o\n",
            " lose money from investing in penny stocks . - - - - - - - - - - - - - - - - -\n",
            "Displaying 1 of 1 matches:\n",
            " receive first notice on run - away stocks traders ' monthly alert january pic\n",
            "Displaying 2 of 2 matches:\n",
            "his email pertaining to investing , stocks , securities must be understood as \n",
            "ntative before deciding to trade in stocks featured within this email . none o\n",
            "Displaying 3 of 3 matches:\n",
            "ancements but may be one of the few stocks left in this industry group that is\n",
            "his email pertaining to investing , stocks , securities must be understood as \n",
            "ntative before deciding to trade in stocks featured within this email . none o\n",
            "Displaying 4 of 4 matches:\n",
            "his email pertaining to investing , stocks , securities must be understood as \n",
            "ntative before deciding to trade in stocks featured within this email . none o\n",
            "eep in mind that when trading small stocks like the company above there is a c\n",
            "t professional before investing any stocks or mutual funds .\n",
            "Displaying 2 of 2 matches:\n",
            "his email pertaining to investing , stocks , securities must be understood as \n",
            "ntative before deciding to trade in stocks featured within this emai | . none \n",
            "Displaying 1 of 1 matches:\n",
            "s obtained . investing in micro cap stocks is extremely risky and , investors \n",
            "Displaying 3 of 3 matches:\n",
            " statements . as with many microcap stocks , today ' s company has additiona |\n",
            "is report pertaining to investing , stocks , securities must be understood as \n",
            "ntative before deciding to trade in stocks featured within this report . none \n",
            "Displaying 5 of 5 matches:\n",
            "5 where were you when the following stocks exploded : scos : exploded from . 3\n",
            "d . 80 on friday . face it . little stocks can mean big gains for you . this r\n",
            "might occur . as with many microcap stocks , today ' s company has additional \n",
            "his email pertaining to investing , stocks , securities must be understood as \n",
            "ntative before deciding to trade in stocks featured within this report . none \n",
            "Displaying 3 of 3 matches:\n",
            " plays . widespread gains in energy stocks are inflating the portfolios of agg\n",
            "st levels of the year , with energy stocks outperforming all other market sect\n",
            "utions that sma | | and micro - cap stocks are high - risk investments and tha\n",
            "Displaying 3 of 3 matches:\n",
            " statements . as with many microcap stocks , todays company has additional ris\n",
            "blication pertaining to investing , stocks , securities must be understood as \n",
            "ntative before deciding to trade in stocks featured within this publication . \n",
            "Displaying 1 of 1 matches:\n",
            "cautions that small and micro - cap stocks are high - risk investments and tha\n",
            "Displaying 6 of 6 matches:\n",
            "hem : ( big money was made in these stocks by savvy investors who timed them r\n",
            "g filthy , stinking ri ' ch in tiny stocks no one has ever heard of until now \n",
            "ynamic things . some of these small stocks have absolutely exploded in price r\n",
            "'' occur . as with many micro - cap stocks , today ' s company has additional \n",
            " ema - il pertaining to investing , stocks or securities must be understood as\n",
            "ntative before deciding to trade in stocks featured within this ema - il . non\n",
            "Displaying 3 of 3 matches:\n",
            "might occur . as with many microcap stocks , today ' s company has additional \n",
            "is emai | pertaining to investing , stocks , securities must be understood as \n",
            "ntative before deciding to trade in stocks featured within this emai | . none \n",
            "Displaying 1 of 1 matches:\n",
            "fessionally not multi - level - not stocks - not real estate no cost tele - se\n"
          ]
        }
      ]
    },
    {
      "cell_type": "code",
      "source": [
        "test_spam_list = [\"Participate in our new lottery!\", \"Try out this new medicine\"]\n",
        "test_ham_list = [\"See the minutes from the last meeting attached\", \n",
        "                 \"Investors are coming to our office on Monday\"]\n",
        "\n",
        "test_emails = [(email_content, \"spam\") for email_content in test_spam_list]\n",
        "test_emails += [(email_content, \"ham\") for email_content in test_ham_list]\n",
        "\n",
        "new_test_set = [(get_features(email), label) for (email, label) in test_emails]\n",
        "\n",
        "evaluate(train_set, new_test_set, classifier)"
      ],
      "metadata": {
        "colab": {
          "base_uri": "https://localhost:8080/"
        },
        "id": "R1Rf89nGepz6",
        "outputId": "112fc46a-4459-43c6-f40a-3e73554df20c"
      },
      "execution_count": 22,
      "outputs": [
        {
          "output_type": "stream",
          "name": "stdout",
          "text": [
            "Accuracy on the training set = 0.9625332366449117\n",
            "Accuracy on the test set = 1.0\n",
            "Most Informative Features\n",
            "               forwarded = True              ham : spam   =    201.0 : 1.0\n",
            "                    2004 = True             spam : ham    =    147.0 : 1.0\n",
            "            prescription = True             spam : ham    =    132.5 : 1.0\n",
            "                    spam = True             spam : ham    =     90.8 : 1.0\n",
            "                    2005 = True             spam : ham    =     81.1 : 1.0\n",
            "                     ect = True              ham : spam   =     78.2 : 1.0\n",
            "                      ex = True             spam : ham    =     73.1 : 1.0\n",
            "                creative = True             spam : ham    =     71.5 : 1.0\n",
            "              nomination = True              ham : spam   =     71.0 : 1.0\n",
            "             medications = True             spam : ham    =     68.3 : 1.0\n",
            "                   adobe = True             spam : ham    =     66.7 : 1.0\n",
            "                      cc = True              ham : spam   =     65.9 : 1.0\n",
            "                   epson = True             spam : ham    =     61.8 : 1.0\n",
            "                   cisco = True             spam : ham    =     57.0 : 1.0\n",
            "                 dealers = True             spam : ham    =     53.8 : 1.0\n",
            "                   risks = True             spam : ham    =     53.8 : 1.0\n",
            "                    2001 = True              ham : spam   =     52.9 : 1.0\n",
            "                   cheap = True             spam : ham    =     51.6 : 1.0\n",
            "                    draw = True             spam : ham    =     50.6 : 1.0\n",
            "                     tap = True              ham : spam   =     48.8 : 1.0\n",
            "                  health = True             spam : ham    =     47.7 : 1.0\n",
            "                     ami = True              ham : spam   =     46.1 : 1.0\n",
            "                 doctors = True             spam : ham    =     45.8 : 1.0\n",
            "                reliable = True             spam : ham    =     45.8 : 1.0\n",
            "              affordable = True             spam : ham    =     42.6 : 1.0\n",
            "                inherent = True             spam : ham    =     42.6 : 1.0\n",
            "                powerful = True             spam : ham    =     42.6 : 1.0\n",
            "                   julie = True              ham : spam   =     42.2 : 1.0\n",
            "                conflict = True             spam : ham    =     41.0 : 1.0\n",
            "               publisher = True             spam : ham    =     41.0 : 1.0\n",
            "                     ibm = True             spam : ham    =     40.0 : 1.0\n",
            "                   susan = True              ham : spam   =     40.0 : 1.0\n",
            "                   steve = True              ham : spam   =     39.4 : 1.0\n",
            "                deciding = True             spam : ham    =     39.4 : 1.0\n",
            "                 explode = True             spam : ham    =     39.4 : 1.0\n",
            "                     fat = True             spam : ham    =     39.4 : 1.0\n",
            "                    body = True             spam : ham    =     39.0 : 1.0\n",
            "                    lisa = True              ham : spam   =     38.3 : 1.0\n",
            "                    acts = True             spam : ham    =     37.7 : 1.0\n",
            "                    sony = True             spam : ham    =     37.1 : 1.0\n",
            "                       u = True             spam : ham    =     36.1 : 1.0\n",
            "                 advises = True             spam : ham    =     36.1 : 1.0\n",
            "                  border = True             spam : ham    =     34.5 : 1.0\n",
            "                    font = True             spam : ham    =     34.5 : 1.0\n",
            "                 foresee = True             spam : ham    =     34.5 : 1.0\n",
            "                   women = True             spam : ham    =     34.2 : 1.0\n",
            "                     713 = True              ham : spam   =     33.3 : 1.0\n",
            "                    duke = True              ham : spam   =     33.1 : 1.0\n",
            "                 effects = True             spam : ham    =     32.9 : 1.0\n",
            "                 filings = True             spam : ham    =     32.9 : 1.0\n"
          ]
        }
      ]
    },
    {
      "cell_type": "markdown",
      "source": [
        "Classify the new mails to test the classifier"
      ],
      "metadata": {
        "id": "Q0eM3GaUfntS"
      }
    },
    {
      "cell_type": "code",
      "source": [
        "for email in test_spam_list:\n",
        "    print (email)\n",
        "    print (classifier.classify(get_features(email)))\n",
        "for email in test_ham_list:\n",
        "    print (email)\n",
        "    print (classifier.classify(get_features(email)))"
      ],
      "metadata": {
        "colab": {
          "base_uri": "https://localhost:8080/"
        },
        "id": "8LW6F2qZVHkr",
        "outputId": "375a026e-6e4e-4ba3-c8b8-ee1eda3f05bb"
      },
      "execution_count": 23,
      "outputs": [
        {
          "output_type": "stream",
          "name": "stdout",
          "text": [
            "Participate in our new lottery!\n",
            "spam\n",
            "Try out this new medicine\n",
            "spam\n",
            "See the minutes from the last meeting attached\n",
            "ham\n",
            "Investors are coming to our office on Monday\n",
            "ham\n"
          ]
        }
      ]
    },
    {
      "cell_type": "markdown",
      "source": [
        "ASSIGNMENT"
      ],
      "metadata": {
        "id": "5HJ28Y7TVaam"
      }
    },
    {
      "cell_type": "code",
      "source": [
        "from google.colab import drive\n",
        "drive.mount('/content/gdrive')"
      ],
      "metadata": {
        "colab": {
          "base_uri": "https://localhost:8080/"
        },
        "id": "v6qPBMIMVJ2Y",
        "outputId": "062bd5f9-4878-48e2-dc62-23d4bad70a42"
      },
      "execution_count": 25,
      "outputs": [
        {
          "output_type": "stream",
          "name": "stdout",
          "text": [
            "Drive already mounted at /content/gdrive; to attempt to forcibly remount, call drive.mount(\"/content/gdrive\", force_remount=True).\n"
          ]
        }
      ]
    },
    {
      "cell_type": "code",
      "source": [
        "#call the read_in function on ham_list to store the folders of ham and print the first item in the list \n",
        "new_ham_list = read_in(\"/content/gdrive/MyDrive/enron2/ham/\")\n",
        "\n",
        "#call the read_in function on spam_list to store the folders of spam  \n",
        "new_spam_list = read_in('/content/gdrive/MyDrive/enron2/spam/')"
      ],
      "metadata": {
        "id": "G5GeHAakj0o8"
      },
      "execution_count": 26,
      "outputs": []
    },
    {
      "cell_type": "code",
      "source": [
        "import random\n",
        "\n",
        "new_all_emails = [(email_content, \"spam\") for email_content in new_spam_list]\n",
        "new_all_emails += [(email_content, \"ham\") for email_content in new_ham_list]\n",
        "random.seed(42)\n",
        "random.shuffle(new_all_emails)\n",
        "print (f\"Dataset size = {str(len(new_all_emails))} emails\")"
      ],
      "metadata": {
        "colab": {
          "base_uri": "https://localhost:8080/"
        },
        "id": "yR5TuR7cj0s0",
        "outputId": "638fff30-0f79-48f5-97a0-52fc37a4b660"
      },
      "execution_count": 27,
      "outputs": [
        {
          "output_type": "stream",
          "name": "stdout",
          "text": [
            "Dataset size = 5857 emails\n"
          ]
        }
      ]
    },
    {
      "cell_type": "code",
      "source": [
        "import nltk\n",
        "from nltk import word_tokenize\n",
        "\n",
        "def get_features(text): \n",
        "    features = {}\n",
        "    word_list = [word for word in word_tokenize(text.lower())]\n",
        "    for word in word_list:\n",
        "        features[word] = True\n",
        "    return features\n",
        "\n",
        "new_features = [(get_features(email), label) for (email, label) in new_all_emails]\n",
        "\n",
        "print(get_features(\"Participate In Our New Lottery NOW!\"))\n",
        "print(len(new_features))\n",
        "print(len(new_features[0][0]))\n",
        "print(len(new_features[99][0]))"
      ],
      "metadata": {
        "colab": {
          "base_uri": "https://localhost:8080/"
        },
        "id": "6z-vjga-j0vl",
        "outputId": "e5675f48-c306-416c-8e1d-4fe5e90ff153"
      },
      "execution_count": 28,
      "outputs": [
        {
          "output_type": "stream",
          "name": "stdout",
          "text": [
            "{'participate': True, 'in': True, 'our': True, 'new': True, 'lottery': True, 'now': True, '!': True}\n",
            "5857\n",
            "161\n",
            "413\n"
          ]
        }
      ]
    },
    {
      "cell_type": "code",
      "source": [
        "from nltk import NaiveBayesClassifier, classify\n",
        "\n",
        "def train(features, proportion):\n",
        "    train_size = int(len(features) * proportion)\n",
        "    # initialise the training and test sets\n",
        "    train_set, test_set = features[:train_size], features[train_size:]\n",
        "    print (f\"Training set size = {str(len(train_set))} emails\")\n",
        "    print (f\"Test set size = {str(len(test_set))} emails\")\n",
        "    # train the classifier\n",
        "    classifier = NaiveBayesClassifier.train(train_set)\n",
        "    return train_set, test_set, classifier\n",
        "\n",
        "train_set, test_set, classifier = train(new_features, 0.8)"
      ],
      "metadata": {
        "colab": {
          "base_uri": "https://localhost:8080/"
        },
        "id": "CcGHIeoej0yp",
        "outputId": "d776585c-bc44-4ca5-f621-640c623e8bd0"
      },
      "execution_count": 29,
      "outputs": [
        {
          "output_type": "stream",
          "name": "stdout",
          "text": [
            "Training set size = 4685 emails\n",
            "Test set size = 1172 emails\n"
          ]
        }
      ]
    },
    {
      "cell_type": "code",
      "source": [
        "def evaluate(train_set, test_set, classifier):\n",
        "    # check how the classifier performs on the training and test sets\n",
        "    print (f\"Accuracy on the training set = {str(classify.accuracy(classifier, train_set))}\")\n",
        "    print (f\"Accuracy on the test set = {str(classify.accuracy(classifier, test_set))}\")    \n",
        "    # check which words are most informative for the classifier\n",
        "    classifier.show_most_informative_features(50)\n",
        "\n",
        "evaluate(train_set, test_set, classifier)"
      ],
      "metadata": {
        "colab": {
          "base_uri": "https://localhost:8080/"
        },
        "id": "0TO3B9SylnCL",
        "outputId": "d1afe938-e801-42e5-998c-1bc800e97858"
      },
      "execution_count": 30,
      "outputs": [
        {
          "output_type": "stream",
          "name": "stdout",
          "text": [
            "Accuracy on the training set = 0.9985058697972252\n",
            "Accuracy on the test set = 0.9914675767918089\n",
            "Most Informative Features\n",
            "                   vince = True              ham : spam   =    514.0 : 1.0\n",
            "                     ect = True              ham : spam   =    252.1 : 1.0\n",
            "                    2005 = True             spam : ham    =    144.3 : 1.0\n",
            "                      cc = True              ham : spam   =    135.6 : 1.0\n",
            "                     oem = True             spam : ham    =    102.5 : 1.0\n",
            "                 engines = True             spam : ham    =     98.7 : 1.0\n",
            "                     doc = True              ham : spam   =     83.2 : 1.0\n",
            "                   logos = True             spam : ham    =     81.4 : 1.0\n",
            "           advertisement = True             spam : ham    =     78.7 : 1.0\n",
            "                     php = True             spam : ham    =     77.6 : 1.0\n",
            "                 artwork = True             spam : ham    =     71.8 : 1.0\n",
            "               forwarded = True              ham : spam   =     70.8 : 1.0\n",
            "                thousand = True             spam : ham    =     70.7 : 1.0\n",
            "                    8859 = True             spam : ham    =     62.3 : 1.0\n",
            "                     853 = True              ham : spam   =     62.1 : 1.0\n",
            "                      sf = True             spam : ham    =     60.3 : 1.0\n",
            "                identity = True             spam : ham    =     57.1 : 1.0\n",
            "                   2005. = True             spam : ham    =     56.5 : 1.0\n",
            "                  norton = True             spam : ham    =     54.6 : 1.0\n",
            "                   kevin = True              ham : spam   =     53.9 : 1.0\n",
            "                 privacy = True             spam : ham    =     52.3 : 1.0\n",
            "                    jeff = True              ham : spam   =     48.1 : 1.0\n",
            "               construed = True             spam : ham    =     46.9 : 1.0\n",
            "                 hundred = True             spam : ham    =     46.6 : 1.0\n",
            "              turnaround = True             spam : ham    =     45.0 : 1.0\n",
            "                     edu = True              ham : spam   =     42.6 : 1.0\n",
            "                 houston = True              ham : spam   =     42.6 : 1.0\n",
            "                mailings = True             spam : ham    =     42.5 : 1.0\n",
            "                   wrote = True              ham : spam   =     42.1 : 1.0\n",
            "                     119 = True             spam : ham    =     41.2 : 1.0\n",
            "             distinctive = True             spam : ham    =     41.2 : 1.0\n",
            "                  drafts = True             spam : ham    =     41.2 : 1.0\n",
            "               localized = True             spam : ham    =     41.2 : 1.0\n",
            "                    mens = True             spam : ham    =     41.2 : 1.0\n",
            "                nowadays = True             spam : ham    =     41.2 : 1.0\n",
            "              remembered = True             spam : ham    =     41.2 : 1.0\n",
            "                visitors = True             spam : ham    =     39.7 : 1.0\n",
            "                   lunch = True              ham : spam   =     39.3 : 1.0\n",
            "                variants = True             spam : ham    =     39.3 : 1.0\n",
            "                featured = True             spam : ham    =     39.0 : 1.0\n",
            "                    2004 = True             spam : ham    =     38.6 : 1.0\n",
            "                     fyi = True              ham : spam   =     38.2 : 1.0\n",
            "                 weather = True              ham : spam   =     37.9 : 1.0\n",
            "                      pm = True              ham : spam   =     37.9 : 1.0\n",
            "              affordable = True             spam : ham    =     37.4 : 1.0\n",
            "              university = True              ham : spam   =     36.2 : 1.0\n",
            "              affiliated = True             spam : ham    =     35.4 : 1.0\n",
            "              incredible = True             spam : ham    =     35.4 : 1.0\n",
            "                february = True              ham : spam   =     34.9 : 1.0\n",
            "                   boost = True             spam : ham    =     34.8 : 1.0\n"
          ]
        }
      ]
    },
    {
      "cell_type": "markdown",
      "source": [
        "**Combine Both Datasets Together**"
      ],
      "metadata": {
        "id": "XO2skrobqjqF"
      }
    },
    {
      "cell_type": "code",
      "source": [
        "spam_list = read_in('/content/gdrive/MyDrive/enron1/spam/') + read_in('/content/gdrive/MyDrive/enron2/spam/')\n",
        "print(len(spam_list))\n",
        "ham_list = read_in('/content/gdrive/MyDrive/enron1/ham/') + read_in('/content/gdrive/MyDrive/enron2/ham/')\n",
        "print(len(ham_list))\n",
        "\n",
        "all_emails = [(email_content, \"spam\") for email_content in spam_list]\n",
        "all_emails += [(email_content, \"ham\") for email_content in ham_list]\n",
        "random.shuffle(test_emails)\n",
        "\n",
        "all_features = [(get_features(email), label) for (email, label) in all_emails]\n",
        "print(len(all_features))\n",
        "\n",
        "train_set, test_set, classifier = train(all_features, 0.8)\n",
        "evaluate(train_set, new_test_set, classifier)\n"
      ],
      "metadata": {
        "colab": {
          "base_uri": "https://localhost:8080/"
        },
        "id": "DCkSwvLXlnKm",
        "outputId": "5920be09-ca9c-4522-f4ea-cc685b93c25c"
      },
      "execution_count": 31,
      "outputs": [
        {
          "output_type": "stream",
          "name": "stdout",
          "text": [
            "2996\n",
            "8033\n",
            "11029\n",
            "Training set size = 8823 emails\n",
            "Test set size = 2206 emails\n",
            "Accuracy on the training set = 0.9822055990026068\n",
            "Accuracy on the test set = 1.0\n",
            "Most Informative Features\n",
            "                   meter = True              ham : spam   =    263.8 : 1.0\n",
            "                   vince = True              ham : spam   =    200.2 : 1.0\n",
            "                     sex = True             spam : ham    =    195.1 : 1.0\n",
            "                     nom = True              ham : spam   =    194.9 : 1.0\n",
            "                     php = True             spam : ham    =    182.1 : 1.0\n",
            "            prescription = True             spam : ham    =    169.2 : 1.0\n",
            "                     ect = True              ham : spam   =    167.5 : 1.0\n",
            "                    spam = True             spam : ham    =    145.8 : 1.0\n",
            "               forwarded = True              ham : spam   =    136.1 : 1.0\n",
            "                     fyi = True              ham : spam   =    134.2 : 1.0\n",
            "                    2005 = True             spam : ham    =    128.1 : 1.0\n",
            "                   logos = True             spam : ham    =    121.2 : 1.0\n",
            "              nomination = True              ham : spam   =    112.6 : 1.0\n",
            "              macromedia = True             spam : ham    =    109.5 : 1.0\n",
            "                  studio = True             spam : ham    =    108.3 : 1.0\n",
            "                   corel = True             spam : ham    =    104.4 : 1.0\n",
            "                  dealer = True             spam : ham    =    104.4 : 1.0\n",
            "                 readers = True             spam : ham    =     96.6 : 1.0\n",
            "                     pat = True              ham : spam   =     89.6 : 1.0\n",
            "                      cc = True              ham : spam   =     89.0 : 1.0\n",
            "                    2004 = True             spam : ham    =     81.9 : 1.0\n",
            "                     713 = True              ham : spam   =     81.5 : 1.0\n",
            "              materially = True             spam : ham    =     79.7 : 1.0\n",
            "                     853 = True              ham : spam   =     79.0 : 1.0\n",
            "             medications = True             spam : ham    =     78.4 : 1.0\n",
            "                identity = True             spam : ham    =     75.8 : 1.0\n",
            "                    8859 = True             spam : ham    =     72.0 : 1.0\n",
            "                 shirley = True              ham : spam   =     70.9 : 1.0\n",
            "                   penis = True             spam : ham    =     69.4 : 1.0\n",
            "                 removal = True             spam : ham    =     69.4 : 1.0\n",
            "                      wi = True             spam : ham    =     69.4 : 1.0\n",
            "                 artwork = True             spam : ham    =     68.1 : 1.0\n",
            "                 beliefs = True             spam : ham    =     68.1 : 1.0\n",
            "                   canon = True             spam : ham    =     66.8 : 1.0\n",
            "                 foresee = True             spam : ham    =     66.8 : 1.0\n",
            "                    pain = True             spam : ham    =     65.7 : 1.0\n",
            "             speculative = True             spam : ham    =     65.5 : 1.0\n",
            "           uncertainties = True             spam : ham    =     65.0 : 1.0\n",
            "                   epson = True             spam : ham    =     61.6 : 1.0\n",
            "                 factual = True             spam : ham    =     61.6 : 1.0\n",
            "                featured = True             spam : ham    =     60.8 : 1.0\n",
            "           advertisement = True             spam : ham    =     59.2 : 1.0\n",
            "                    drug = True             spam : ham    =     59.0 : 1.0\n",
            "                 hewlett = True             spam : ham    =     59.0 : 1.0\n",
            "                  weight = True             spam : ham    =     58.7 : 1.0\n",
            "                 packard = True             spam : ham    =     57.7 : 1.0\n",
            "                  sexual = True             spam : ham    =     57.2 : 1.0\n",
            "               enquiries = True             spam : ham    =     56.4 : 1.0\n",
            "              scheduling = True              ham : spam   =     55.4 : 1.0\n",
            "                   adult = True             spam : ham    =     55.1 : 1.0\n"
          ]
        }
      ]
    },
    {
      "cell_type": "code",
      "source": [],
      "metadata": {
        "id": "Qg29K4qflnNo"
      },
      "execution_count": null,
      "outputs": []
    },
    {
      "cell_type": "code",
      "source": [],
      "metadata": {
        "id": "UfPmkCOElnQt"
      },
      "execution_count": null,
      "outputs": []
    },
    {
      "cell_type": "markdown",
      "source": [],
      "metadata": {
        "id": "tIwC98WasfEH"
      }
    },
    {
      "cell_type": "markdown",
      "source": [],
      "metadata": {
        "id": "4nwPMXNqsfPr"
      }
    }
  ]
}